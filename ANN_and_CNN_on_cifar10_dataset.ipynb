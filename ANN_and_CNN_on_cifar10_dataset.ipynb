{
  "nbformat": 4,
  "nbformat_minor": 0,
  "metadata": {
    "colab": {
      "name": "ANN and CNN on cifar10 dataset",
      "provenance": [],
      "collapsed_sections": [],
      "authorship_tag": "ABX9TyOHATn+KNAvQl9MOmPRGFX7",
      "include_colab_link": true
    },
    "kernelspec": {
      "name": "python3",
      "display_name": "Python 3"
    },
    "language_info": {
      "name": "python"
    }
  },
  "cells": [
    {
      "cell_type": "markdown",
      "metadata": {
        "id": "view-in-github",
        "colab_type": "text"
      },
      "source": [
        "<a href=\"https://colab.research.google.com/github/hanishtangella/CNN-and-ANN-on-cifar10-datatset/blob/main/ANN_and_CNN_on_cifar10_dataset.ipynb\" target=\"_parent\"><img src=\"https://colab.research.google.com/assets/colab-badge.svg\" alt=\"Open In Colab\"/></a>"
      ]
    },
    {
      "cell_type": "code",
      "metadata": {
        "id": "Gfrg-LS5-eIl"
      },
      "source": [
        "import pandas as pd\n",
        "import numpy as np\n",
        "import tensorflow as tf\n",
        "from tensorflow import keras\n",
        "import seaborn as sns\n",
        "import matplotlib.pyplot as plt"
      ],
      "execution_count": 1,
      "outputs": []
    },
    {
      "cell_type": "code",
      "metadata": {
        "colab": {
          "base_uri": "https://localhost:8080/"
        },
        "id": "ovVDTd8XAhBm",
        "outputId": "edd850ac-5379-4e01-a6bb-eb7e38f28b46"
      },
      "source": [
        "(X_train,y_train), (X_test,y_test) = keras.datasets.cifar10.load_data()"
      ],
      "execution_count": null,
      "outputs": [
        {
          "output_type": "stream",
          "name": "stdout",
          "text": [
            "Downloading data from https://www.cs.toronto.edu/~kriz/cifar-10-python.tar.gz\n",
            "170500096/170498071 [==============================] - 2s 0us/step\n",
            "170508288/170498071 [==============================] - 2s 0us/step\n"
          ]
        }
      ]
    },
    {
      "cell_type": "code",
      "metadata": {
        "colab": {
          "base_uri": "https://localhost:8080/"
        },
        "id": "3MWAn3G8A1-L",
        "outputId": "eb1fc7be-452f-4387-ccce-1b7f4d4e4377"
      },
      "source": [
        "X_train.shape"
      ],
      "execution_count": null,
      "outputs": [
        {
          "output_type": "execute_result",
          "data": {
            "text/plain": [
              "(50000, 32, 32, 3)"
            ]
          },
          "metadata": {},
          "execution_count": 8
        }
      ]
    },
    {
      "cell_type": "code",
      "metadata": {
        "colab": {
          "base_uri": "https://localhost:8080/"
        },
        "id": "87MsHJZCA_fc",
        "outputId": "574cdc40-e66f-4df6-fa3a-2894036631d1"
      },
      "source": [
        "y_train[0]"
      ],
      "execution_count": null,
      "outputs": [
        {
          "output_type": "execute_result",
          "data": {
            "text/plain": [
              "array([6], dtype=uint8)"
            ]
          },
          "metadata": {},
          "execution_count": 15
        }
      ]
    },
    {
      "cell_type": "code",
      "metadata": {
        "colab": {
          "base_uri": "https://localhost:8080/",
          "height": 212
        },
        "id": "n1X4GxsNBMnf",
        "outputId": "e5138b66-c84e-4a4d-c801-058348ca30c8"
      },
      "source": [
        "plt.figure(figsize=(3,3))\n",
        "for i in range(0,5):\n",
        "  plt.imshow(X_train[i])"
      ],
      "execution_count": null,
      "outputs": [
        {
          "output_type": "display_data",
          "data": {
            "image/png": "[encoded data removed]",
            "text/plain": [
              "<Figure size 216x216 with 1 Axes>"
            ]
          },
          "metadata": {
            "needs_background": "light"
          }
        }
      ]
    },
    {
      "cell_type": "code",
      "metadata": {
        "colab": {
          "base_uri": "https://localhost:8080/"
        },
        "id": "Re0XjTagBOiy",
        "outputId": "7d25bc2b-233d-4377-eb5d-1404e71cfa8e"
      },
      "source": [
        "y_train.shape"
      ],
      "execution_count": null,
      "outputs": [
        {
          "output_type": "execute_result",
          "data": {
            "text/plain": [
              "(50000, 1)"
            ]
          },
          "metadata": {},
          "execution_count": 29
        }
      ]
    },
    {
      "cell_type": "markdown",
      "metadata": {
        "id": "owhoQGHZDHXZ"
      },
      "source": [
        "Scaling X_train and X_test"
      ]
    },
    {
      "cell_type": "code",
      "metadata": {
        "id": "bpyhFCgiDJzf"
      },
      "source": [
        "X_train = X_train/255\n",
        "X_test = X_test/255"
      ],
      "execution_count": null,
      "outputs": []
    },
    {
      "cell_type": "markdown",
      "metadata": {
        "id": "Eme3d_ndDfG4"
      },
      "source": [
        "Building ann"
      ]
    },
    {
      "cell_type": "code",
      "metadata": {
        "id": "wVbvcTj0DJ2O"
      },
      "source": [
        "ann = keras.models.Sequential()\n",
        "ann.add(keras.layers.Flatten(input_shape = (32,32,3)))\n",
        "ann.add(keras.layers.Dense(units =32*32,activation='relu'))\n",
        "ann.add(keras.layers.Dense(units =16*16,activation='relu'))\n",
        "ann.add(keras.layers.Dense(units = 10, activation='sigmoid'))\n"
      ],
      "execution_count": null,
      "outputs": []
    },
    {
      "cell_type": "code",
      "metadata": {
        "id": "uFlWRtITDJ5M"
      },
      "source": [
        "ann.compile(optimizer='adam',loss='sparse_categorical_crossentropy',metrics = ['accuracy'])"
      ],
      "execution_count": null,
      "outputs": []
    },
    {
      "cell_type": "code",
      "metadata": {
        "colab": {
          "base_uri": "https://localhost:8080/"
        },
        "id": "h5h4U4DPDJ7N",
        "outputId": "9e47f8d2-b341-4319-92af-888a5067c310"
      },
      "source": [
        "ann.fit(X_train, y_train, epochs = 4)"
      ],
      "execution_count": null,
      "outputs": [
        {
          "output_type": "stream",
          "name": "stdout",
          "text": [
            "Epoch 1/4\n",
            "1563/1563 [==============================] - 40s 26ms/step - loss: 1.5600 - accuracy: 0.4440\n",
            "Epoch 2/4\n",
            "1563/1563 [==============================] - 41s 26ms/step - loss: 1.5120 - accuracy: 0.4588\n",
            "Epoch 3/4\n",
            "1563/1563 [==============================] - 41s 26ms/step - loss: 1.4781 - accuracy: 0.4716\n",
            "Epoch 4/4\n",
            "1563/1563 [==============================] - 41s 26ms/step - loss: 1.4447 - accuracy: 0.4835\n"
          ]
        },
        {
          "output_type": "execute_result",
          "data": {
            "text/plain": [
              "<keras.callbacks.History at 0x7f32abdc6310>"
            ]
          },
          "metadata": {},
          "execution_count": 43
        }
      ]
    },
    {
      "cell_type": "markdown",
      "metadata": {
        "id": "eu4UvNA4DKBo"
      },
      "source": [
        ""
      ]
    },
    {
      "cell_type": "code",
      "metadata": {
        "id": "hRKl13bSJwXF"
      },
      "source": [
        "cnn = keras.models.Sequential()"
      ],
      "execution_count": null,
      "outputs": []
    },
    {
      "cell_type": "code",
      "metadata": {
        "id": "V-Ps826zJxua"
      },
      "source": [
        "cnn.add(keras.layers.Conv2D(filters = 32,activation='relu',kernel_size=(3,3), input_shape=(32,32,3)))"
      ],
      "execution_count": null,
      "outputs": []
    },
    {
      "cell_type": "code",
      "metadata": {
        "id": "XS4HCvQiJxwn"
      },
      "source": [
        "cnn.add(keras.layers.MaxPooling2D((2,2)))"
      ],
      "execution_count": null,
      "outputs": []
    },
    {
      "cell_type": "code",
      "metadata": {
        "id": "N6JRCKkKJxzp"
      },
      "source": [
        "cnn.add(keras.layers.Conv2D(filters = 32,activation='relu',kernel_size=(3,3)))\n",
        "cnn.add(keras.layers.MaxPooling2D((2,2)))"
      ],
      "execution_count": null,
      "outputs": []
    },
    {
      "cell_type": "code",
      "metadata": {
        "id": "0KaF29cCJx13"
      },
      "source": [
        "cnn.add(keras.layers.Flatten())\n",
        "cnn.add(keras.layers.Dense(units = 64,activation='relu'))\n",
        "cnn.add(keras.layers.Dense(units = 10, activation='softmax'))"
      ],
      "execution_count": null,
      "outputs": []
    },
    {
      "cell_type": "code",
      "metadata": {
        "id": "RBV3dDhWJx3c"
      },
      "source": [
        "cnn.compile(optimizer='adam',loss = 'sparse_categorical_crossentropy',metrics = ['accuracy'])"
      ],
      "execution_count": null,
      "outputs": []
    },
    {
      "cell_type": "code",
      "metadata": {
        "colab": {
          "base_uri": "https://localhost:8080/"
        },
        "id": "3OmHBehGDKCw",
        "outputId": "aeb247d2-b5ae-4a6b-fb99-b44a6edb9871"
      },
      "source": [
        "cnn.fit(X_train,y_train,epochs=10)"
      ],
      "execution_count": null,
      "outputs": [
        {
          "output_type": "stream",
          "name": "stdout",
          "text": [
            "Epoch 1/10\n",
            "1563/1563 [==============================] - 56s 36ms/step - loss: 1.5081 - accuracy: 0.4610\n",
            "Epoch 2/10\n",
            "1563/1563 [==============================] - 57s 37ms/step - loss: 1.1803 - accuracy: 0.5840\n",
            "Epoch 3/10\n",
            "1563/1563 [==============================] - 56s 36ms/step - loss: 1.0616 - accuracy: 0.6259\n",
            "Epoch 4/10\n",
            "1563/1563 [==============================] - 56s 36ms/step - loss: 0.9861 - accuracy: 0.6555\n",
            "Epoch 5/10\n",
            "1563/1563 [==============================] - 57s 36ms/step - loss: 0.9271 - accuracy: 0.6758\n",
            "Epoch 6/10\n",
            "1563/1563 [==============================] - 57s 37ms/step - loss: 0.8828 - accuracy: 0.6937\n",
            "Epoch 7/10\n",
            "1563/1563 [==============================] - 57s 37ms/step - loss: 0.8417 - accuracy: 0.7074\n",
            "Epoch 8/10\n",
            "1563/1563 [==============================] - 57s 36ms/step - loss: 0.8073 - accuracy: 0.7192\n",
            "Epoch 9/10\n",
            "1563/1563 [==============================] - 57s 36ms/step - loss: 0.7774 - accuracy: 0.7300\n",
            "Epoch 10/10\n",
            "1563/1563 [==============================] - 57s 36ms/step - loss: 0.7511 - accuracy: 0.7370\n"
          ]
        },
        {
          "output_type": "execute_result",
          "data": {
            "text/plain": [
              "<keras.callbacks.History at 0x7f32abd8c0d0>"
            ]
          },
          "metadata": {},
          "execution_count": 50
        }
      ]
    },
    {
      "cell_type": "code",
      "metadata": {
        "colab": {
          "base_uri": "https://localhost:8080/"
        },
        "id": "eddC2EvjMjJP",
        "outputId": "640697e1-f83d-42d6-885c-905e9b5cae90"
      },
      "source": [
        "cnn.evaluate(X_test,y_test)"
      ],
      "execution_count": null,
      "outputs": [
        {
          "output_type": "stream",
          "name": "stdout",
          "text": [
            "313/313 [==============================] - 3s 10ms/step - loss: 0.9215 - accuracy: 0.6862\n"
          ]
        },
        {
          "output_type": "execute_result",
          "data": {
            "text/plain": [
              "[0.921459972858429, 0.6862000226974487]"
            ]
          },
          "metadata": {},
          "execution_count": 52
        }
      ]
    },
    {
      "cell_type": "code",
      "metadata": {
        "id": "mpYoqlYsPGBN"
      },
      "source": [
        "yp = cnn.predict(X_test)"
      ],
      "execution_count": null,
      "outputs": []
    },
    {
      "cell_type": "code",
      "metadata": {
        "colab": {
          "base_uri": "https://localhost:8080/"
        },
        "id": "1wMbDH5vQCF5",
        "outputId": "e1bbd5b4-119f-45bc-8b5c-54f400015dc5"
      },
      "source": [
        "yp"
      ],
      "execution_count": null,
      "outputs": [
        {
          "output_type": "execute_result",
          "data": {
            "text/plain": [
              "array([[2.2552691e-04, 7.6000654e-04, 2.1035888e-03, ..., 4.4659882e-05,\n",
              "        2.5374040e-02, 2.3448872e-04],\n",
              "       [1.0241959e-03, 2.0885179e-03, 1.7731021e-06, ..., 5.8483274e-10,\n",
              "        9.9687850e-01, 6.3689113e-06],\n",
              "       [1.3368161e-02, 5.4226629e-02, 1.6607880e-04, ..., 4.3389449e-05,\n",
              "        9.2768663e-01, 1.5186269e-03],\n",
              "       ...,\n",
              "       [5.8294568e-06, 2.8074664e-06, 9.9358028e-03, ..., 8.0610402e-03,\n",
              "        6.8755353e-06, 3.8149967e-05],\n",
              "       [2.9538009e-02, 9.2729047e-02, 9.4394255e-03, ..., 2.1179317e-02,\n",
              "        7.7070930e-05, 7.6169024e-05],\n",
              "       [7.7951814e-09, 8.7622723e-08, 1.1277681e-06, ..., 9.9964106e-01,\n",
              "        1.3085028e-09, 1.5564490e-08]], dtype=float32)"
            ]
          },
          "metadata": {},
          "execution_count": 56
        }
      ]
    },
    {
      "cell_type": "code",
      "metadata": {
        "id": "qOi-RT97QEZX"
      },
      "source": [
        "y_pred = [np.argmax(i) for i in yp]\n",
        "y_pred"
      ],
      "execution_count": null,
      "outputs": []
    },
    {
      "cell_type": "code",
      "metadata": {
        "colab": {
          "base_uri": "https://localhost:8080/"
        },
        "id": "Je0etzWuQGct",
        "outputId": "b6bcce24-5e8e-4895-99ee-06afc88d1474"
      },
      "source": [
        "y_test.reshape(-1,)"
      ],
      "execution_count": null,
      "outputs": [
        {
          "output_type": "execute_result",
          "data": {
            "text/plain": [
              "array([3, 8, 8, ..., 5, 1, 7], dtype=uint8)"
            ]
          },
          "metadata": {},
          "execution_count": 60
        }
      ]
    },
    {
      "cell_type": "code",
      "metadata": {
        "colab": {
          "base_uri": "https://localhost:8080/"
        },
        "id": "JGHqpYiUQwV6",
        "outputId": "98f794a0-7bb3-4a40-9c0a-eb9006565cde"
      },
      "source": [
        "from sklearn.metrics import accuracy_score\n",
        "accuracy_score(y_test,y_pred)"
      ],
      "execution_count": null,
      "outputs": [
        {
          "output_type": "execute_result",
          "data": {
            "text/plain": [
              "0.6862"
            ]
          },
          "metadata": {},
          "execution_count": 61
        }
      ]
    },
    {
      "cell_type": "code",
      "metadata": {
        "id": "sEZxkXTyRDpI"
      },
      "source": [
        ""
      ],
      "execution_count": null,
      "outputs": []
    }
  ]
}